{
 "cells": [
  {
   "cell_type": "code",
   "execution_count": 35,
   "metadata": {
    "collapsed": false
   },
   "outputs": [],
   "source": [
    "%matplotlib inline\n",
    "import sticker\n",
    "import fgsm\n",
    "from utilities import query_to_labels, url_to_im\n",
    "from glob import glob\n",
    "from time import time\n",
    "from os import remove\n",
    "import numpy as np\n",
    "from distill import create_distilled\n",
    "import torch\n",
    "from time import sleep\n",
    "\n",
    "import matplotlib.pyplot as plt\n"
   ]
  },
  {
   "cell_type": "code",
   "execution_count": 38,
   "metadata": {
    "collapsed": false
   },
   "outputs": [],
   "source": [
    "\n",
    "device = torch.device('cuda:0')\n",
    "model = create_distilled(device)\n",
    "\n",
    "def fgsm_test(model,bounds=[5,25]):\n",
    "    convsum_base = 0\n",
    "    convsum_ad = {key:0 for key in bounds}\n",
    "    times = {key:0 for key in bounds}\n",
    "    a = fgsm.FGSM(model=model)\n",
    "    a.print = False\n",
    "    imlist = glob(\"Val_Delete!\\\\*\")\n",
    "    for bound in bounds:\n",
    "        a.bound=bound\n",
    "        times[bound]=time()\n",
    "        for imurl in imlist:\n",
    "            conv = a.simple_attack(imurl, \"temp.png\")\n",
    "            convsum_ad[bound] += conv\n",
    "            if bound==bounds[0]:\n",
    "                convsum_base += np.max(query_to_labels(imurl))\n",
    "            im = url_to_im (\"temp.png\")\n",
    "            plt.imshow(im)\n",
    "            plt.show()\n",
    "            print(conv)\n",
    "            sleep(12)\n",
    "        times[bound] = time()-times[bound]-12*len(imlist)\n",
    "    try:\n",
    "        remove(\"temp.png\")\n",
    "    except:\n",
    "        pass\n",
    "    \n",
    "    print(\"baseline confidence: \" + str(convsum_base/len(imlist)))\n",
    "    \n",
    "    for key in bounds: \n",
    "        print(\"average confidence for bound = \" + str(key) + \": \" + str(convsum_ad[key]/len(imlist)))\n",
    "        print(\"time taken: \" + str(times[key]) + \" seconds\")\n",
    "    \n",
    "    \n",
    "    "
   ]
  },
  {
   "cell_type": "code",
   "execution_count": null,
   "metadata": {
    "collapsed": false
   },
   "outputs": [
    {
     "data": {
      "image/png": "[encoded data removed]",
      "text/plain": [
       "<Figure size 432x288 with 1 Axes>"
      ]
     },
     "metadata": {},
     "output_type": "display_data"
    },
    {
     "name": "stdout",
     "output_type": "stream",
     "text": [
      "0.60888749\n"
     ]
    }
   ],
   "source": [
    "fgsm_test(model)"
   ]
  },
  {
   "cell_type": "code",
   "execution_count": 2,
   "metadata": {
    "collapsed": false
   },
   "outputs": [],
   "source": [
    "a=fgsm.FGSM()"
   ]
  },
  {
   "cell_type": "code",
   "execution_count": 3,
   "metadata": {
    "collapsed": false,
    "scrolled": false
   },
   "outputs": [
    {
     "name": "stdout",
     "output_type": "stream",
     "text": [
      "Labels with highest confidence:\n",
      "Vorfahrt (label 12): 0.44052419\n",
      "Zulässige Höchstgeschwindigkeit (30) (label 1): 0.11033559\n",
      "Baustelle (label 25): 0.07293988\n",
      "Stoppschild (label 14): 0.06493238\n",
      "Vorfahrt gewähren (label 13): 0.04811269\n",
      "try attacking one of those labels!\n",
      "attacking label 12\n",
      "\n",
      "step: 1\n",
      "MSE White vs Black Box before retraining:\n",
      "0.0252857131031\n",
      "MSE White vs Black Box after retraining:\n",
      "0.012326393276453018\n",
      "probability: Whitebox\n",
      "0.993827760219574\n",
      "probability: Blackbox\n",
      "0.88649476\n",
      "\n",
      "step: 2\n",
      "MSE White vs Black Box before retraining:\n",
      "0.0115203729361\n",
      "MSE White vs Black Box after retraining:\n",
      "0.011275384575128555\n",
      "probability: Whitebox\n",
      "0.9957209229469299\n",
      "probability: Blackbox\n",
      "0.90685701\n",
      "\n",
      "step: 3\n",
      "MSE White vs Black Box before retraining:\n",
      "0.00789679502424\n",
      "MSE White vs Black Box after retraining:\n",
      "0.00775955431163311\n",
      "probability: Whitebox\n",
      "0.9955862760543823\n",
      "probability: Blackbox\n",
      "0.90741205\n",
      "\n",
      "step: 4\n",
      "MSE White vs Black Box before retraining:\n",
      "0.00777469414029\n",
      "MSE White vs Black Box after retraining:\n",
      "0.00763147184625268\n",
      "probability: Whitebox\n",
      "0.995425283908844\n",
      "probability: Blackbox\n",
      "0.90945369\n",
      "\n",
      "step: 5\n",
      "MSE White vs Black Box before retraining:\n",
      "0.00739111495923\n",
      "MSE White vs Black Box after retraining:\n",
      "0.007243419531732798\n",
      "probability: Whitebox\n",
      "0.9950464963912964\n",
      "probability: Blackbox\n",
      "0.90962815\n",
      "\n",
      "step: 6\n",
      "MSE White vs Black Box before retraining:\n",
      "0.00729629390022\n",
      "MSE White vs Black Box after retraining:\n",
      "0.007131803780794144\n",
      "probability: Whitebox\n",
      "0.9945895671844482\n",
      "probability: Blackbox\n",
      "0.91126508\n",
      "\n",
      "step: 7\n",
      "MSE White vs Black Box before retraining:\n",
      "0.00694297016455\n",
      "MSE White vs Black Box after retraining:\n",
      "0.006764709483832121\n",
      "probability: Whitebox\n",
      "0.9939124584197998\n",
      "probability: Blackbox\n",
      "0.91182345\n",
      "\n",
      "step: 8\n",
      "MSE White vs Black Box before retraining:\n",
      "0.00673860530335\n",
      "MSE White vs Black Box after retraining:\n",
      "0.006537696812301874\n",
      "probability: Whitebox\n",
      "0.9931437969207764\n",
      "probability: Blackbox\n",
      "0.91268575\n",
      "\n",
      "step: 9\n",
      "MSE White vs Black Box before retraining:\n",
      "0.00647349731431\n",
      "MSE White vs Black Box after retraining:\n",
      "0.0062492610886693\n",
      "probability: Whitebox\n",
      "0.9920877814292908\n",
      "probability: Blackbox\n",
      "0.91256911\n",
      "\n",
      "step: 10\n",
      "MSE White vs Black Box before retraining:\n",
      "0.00632321910588\n",
      "MSE White vs Black Box after retraining:\n",
      "0.0060648806393146515\n",
      "probability: Whitebox\n",
      "0.9908632636070251\n",
      "probability: Blackbox\n",
      "0.9127391\n",
      "\n",
      "convergence to target confidence failed. relax bounds, increase loop length or start with another image!\n"
     ]
    },
    {
     "data": {
      "text/plain": [
       "0.91273910000000003"
      ]
     },
     "execution_count": 3,
     "metadata": {},
     "output_type": "execute_result"
    }
   ],
   "source": [
    "name = \"Adam_Sandler\"\n",
    "\n",
    "base_directory = \"C:\\\\Users\\\\flodo\\\\Desktop\\\\Infocup_Data\\\\Adversarial_bases\\\\\"\n",
    "target_directory = \"C:\\\\Users\\\\flodo\\\\Desktop\\\\Infocup_Data\\\\Advers_working\\\\\"\n",
    "\n",
    "imurl= base_directory+name+\".png\"\n",
    "save_url=target_directory+name+\".png\"\n",
    "\n",
    "fgsm.preview_im(imurl)\n",
    "a.simple_attack(imurl,save_url)\n"
   ]
  },
  {
   "cell_type": "code",
   "execution_count": 4,
   "metadata": {
    "collapsed": false,
    "scrolled": true
   },
   "outputs": [
    {
     "ename": "NameError",
     "evalue": "name 'im' is not defined",
     "output_type": "error",
     "traceback": [
      "\u001b[0;31m---------------------------------------------------------------------------\u001b[0m",
      "\u001b[0;31mNameError\u001b[0m                                 Traceback (most recent call last)",
      "\u001b[0;32m<ipython-input-4-39a55debe8d8>\u001b[0m in \u001b[0;36m<module>\u001b[0;34m()\u001b[0m\n\u001b[0;32m----> 1\u001b[0;31m \u001b[0ma\u001b[0m\u001b[1;33m.\u001b[0m\u001b[0msimple_attack\u001b[0m\u001b[1;33m(\u001b[0m\u001b[0mim\u001b[0m\u001b[1;33m,\u001b[0m \u001b[0mtarget_label\u001b[0m\u001b[1;33m,\u001b[0m \u001b[0msave_url\u001b[0m\u001b[1;33m,\u001b[0m \u001b[0mbound\u001b[0m\u001b[1;33m=\u001b[0m\u001b[1;36m15\u001b[0m\u001b[1;33m,\u001b[0m \u001b[0mmode\u001b[0m\u001b[1;33m=\u001b[0m\u001b[1;34m\"l_inf\"\u001b[0m\u001b[1;33m,\u001b[0m\u001b[0mtarget_threshold\u001b[0m\u001b[1;33m=\u001b[0m\u001b[1;36m0.9\u001b[0m\u001b[1;33m,\u001b[0m\u001b[0mmax_inner_steps\u001b[0m\u001b[1;33m=\u001b[0m\u001b[1;36m30\u001b[0m\u001b[1;33m)\u001b[0m\u001b[1;33m\u001b[0m\u001b[1;33m\u001b[0m\u001b[0m\n\u001b[0m",
      "\u001b[0;31mNameError\u001b[0m: name 'im' is not defined"
     ]
    }
   ],
   "source": [
    "a.simple_attack(im, target_label, save_url, bound=15, mode=\"l_inf\",target_threshold=0.9,max_inner_steps=30)"
   ]
  },
  {
   "cell_type": "code",
   "execution_count": 7,
   "metadata": {
    "collapsed": false
   },
   "outputs": [
    {
     "name": "stdout",
     "output_type": "stream",
     "text": [
      "2\n"
     ]
    }
   ],
   "source": [
    "from os import remove\n",
    "try:\n",
    "    remove(\"3123123123123112\")\n",
    "except(FileNotFoundError):\n",
    "    print(2)"
   ]
  },
  {
   "cell_type": "code",
   "execution_count": 3,
   "metadata": {
    "collapsed": false
   },
   "outputs": [
    {
     "name": "stdout",
     "output_type": "stream",
     "text": [
      "Confidence for Sticker on label 2: 0.01730714\n",
      "Confidence for Sticker on label 3: 0.90082157\n",
      "Sticker saved under Quickstick\\3\\7_block_central0.010.90082157.png\n",
      "Confidence for Sticker on label 4: 0.09539092\n",
      "Confidence for Sticker on label 8: 0.99852258\n",
      "Sticker saved under Quickstick\\8\\7_block_central0.010.99852258.png\n",
      "Confidence for Sticker on label 9: 0.07509521\n",
      "Confidence for Sticker on label 10: 0.9399305\n",
      "Sticker saved under Quickstick\\10\\7_block_central0.010.9399305.png\n",
      "Confidence for Sticker on label 13: 0.02406728\n",
      "Confidence for Sticker on label 14: 0.29954457\n",
      "Confidence for Sticker on label 17: 0.9982937\n",
      "Sticker saved under Quickstick\\17\\7_block_central0.010.9982937.png\n",
      "Confidence for Sticker on label 18: 0.01623129\n",
      "Confidence for Sticker on label 19: 0.02638045\n",
      "Confidence for Sticker on label 22: 0.03525138\n",
      "Confidence for Sticker on label 25: 0.98064834\n",
      "Sticker saved under Quickstick\\25\\7_block_central0.010.98064834.png\n",
      "Confidence for Sticker on label 31: 0.01024869\n",
      "Confidence for Sticker on label 33: 0.0442517\n",
      "Confidence for Sticker on label 35: 0.08046709\n",
      "Confidence for Sticker on label 38: 0.68687475\n"
     ]
    }
   ],
   "source": [
    "for i in range(43):\n",
    "    a.make_sticker(i,title=\"7_block_central\")"
   ]
  },
  {
   "cell_type": "code",
   "execution_count": 4,
   "metadata": {
    "collapsed": false
   },
   "outputs": [
    {
     "name": "stdout",
     "output_type": "stream",
     "text": [
      "30\n"
     ]
    }
   ],
   "source": [
    "print(a.queries)"
   ]
  },
  {
   "cell_type": "code",
   "execution_count": 5,
   "metadata": {
    "collapsed": false
   },
   "outputs": [
    {
     "name": "stdout",
     "output_type": "stream",
     "text": [
      "0.99999678\n"
     ]
    }
   ],
   "source": [
    "sticker.sticker_attack(\"C:\\\\Users\\\\flodo\\\\Desktop\\\\Infocup_Data\\\\Adversarial_bases\\\\Zaini_Abdullah.png\",\"C:\\\\Users\\\\flodo\\\\Desktop\\\\Infocup_Data\\\\Advers_working\\\\Zaini_Abdullah_stick.png\",label=10)"
   ]
  },
  {
   "cell_type": "code",
   "execution_count": 5,
   "metadata": {
    "collapsed": false
   },
   "outputs": [
    {
     "data": {
      "text/plain": [
       "4.166666666666667"
      ]
     },
     "execution_count": 5,
     "metadata": {},
     "output_type": "execute_result"
    }
   ],
   "source": [
    "5/1.2"
   ]
  },
  {
   "cell_type": "code",
   "execution_count": null,
   "metadata": {
    "collapsed": true
   },
   "outputs": [],
   "source": []
  }
 ],
 "metadata": {
  "kernelspec": {
   "display_name": "Python 3",
   "language": "python",
   "name": "python3"
  },
  "language_info": {
   "codemirror_mode": {
    "name": "ipython",
    "version": 3
   },
   "file_extension": ".py",
   "mimetype": "text/x-python",
   "name": "python",
   "nbconvert_exporter": "python",
   "pygments_lexer": "ipython3",
   "version": "3.6.7"
  }
 },
 "nbformat": 4,
 "nbformat_minor": 2
}
