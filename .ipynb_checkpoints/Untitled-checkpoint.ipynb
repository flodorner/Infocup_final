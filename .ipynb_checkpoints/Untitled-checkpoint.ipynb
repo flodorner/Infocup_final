{
 "cells": [
  {
   "cell_type": "code",
   "execution_count": 1,
   "metadata": {
    "collapsed": false
   },
   "outputs": [],
   "source": [
    "import sticker\n"
   ]
  },
  {
   "cell_type": "code",
   "execution_count": 2,
   "metadata": {
    "collapsed": false
   },
   "outputs": [],
   "source": [
    "a=sticker.sticker_generator(pixelsize=7,fringe=25,stride=7)"
   ]
  },
  {
   "cell_type": "code",
   "execution_count": 3,
   "metadata": {
    "collapsed": false
   },
   "outputs": [
    {
     "name": "stdout",
     "output_type": "stream",
     "text": [
      "Confidence for Sticker on label 2: 0.01730714\n",
      "Confidence for Sticker on label 3: 0.90082157\n",
      "Sticker saved under Quickstick\\3\\7_block_central0.010.90082157.png\n",
      "Confidence for Sticker on label 4: 0.09539092\n",
      "Confidence for Sticker on label 8: 0.99852258\n",
      "Sticker saved under Quickstick\\8\\7_block_central0.010.99852258.png\n",
      "Confidence for Sticker on label 9: 0.07509521\n",
      "Confidence for Sticker on label 10: 0.9399305\n",
      "Sticker saved under Quickstick\\10\\7_block_central0.010.9399305.png\n",
      "Confidence for Sticker on label 13: 0.02406728\n",
      "Confidence for Sticker on label 14: 0.29954457\n",
      "Confidence for Sticker on label 17: 0.9982937\n",
      "Sticker saved under Quickstick\\17\\7_block_central0.010.9982937.png\n",
      "Confidence for Sticker on label 18: 0.01623129\n",
      "Confidence for Sticker on label 19: 0.02638045\n",
      "Confidence for Sticker on label 22: 0.03525138\n",
      "Confidence for Sticker on label 25: 0.98064834\n",
      "Sticker saved under Quickstick\\25\\7_block_central0.010.98064834.png\n",
      "Confidence for Sticker on label 31: 0.01024869\n",
      "Confidence for Sticker on label 33: 0.0442517\n",
      "Confidence for Sticker on label 35: 0.08046709\n",
      "Confidence for Sticker on label 38: 0.68687475\n"
     ]
    }
   ],
   "source": [
    "for i in range(43):\n",
    "    a.make_sticker(i,title=\"7_block_central\")"
   ]
  },
  {
   "cell_type": "code",
   "execution_count": 4,
   "metadata": {
    "collapsed": false
   },
   "outputs": [
    {
     "name": "stdout",
     "output_type": "stream",
     "text": [
      "30\n"
     ]
    }
   ],
   "source": [
    "print(a.queries)"
   ]
  },
  {
   "cell_type": "code",
   "execution_count": 9,
   "metadata": {
    "collapsed": false
   },
   "outputs": [
    {
     "name": "stdout",
     "output_type": "stream",
     "text": [
      "0.99997652\n"
     ]
    }
   ],
   "source": [
    "sticker.sticker_attack(\"C:\\\\Users\\\\flodo\\\\Desktop\\\\Infocup_Data\\\\Adversarial_bases\\\\blue.png\",\"C:\\\\Users\\\\flodo\\\\Desktop\\\\Infocup_Data\\\\Adversarial_bases\\\\blue_trans.png\",\"4\\\\2_block4_0.010.99945539.png\",mode=\"transparent\",label=4 )"
   ]
  },
  {
   "cell_type": "code",
   "execution_count": null,
   "metadata": {
    "collapsed": true
   },
   "outputs": [],
   "source": []
  }
 ],
 "metadata": {
  "kernelspec": {
   "display_name": "Python 3",
   "language": "python",
   "name": "python3"
  },
  "language_info": {
   "codemirror_mode": {
    "name": "ipython",
    "version": 3
   },
   "file_extension": ".py",
   "mimetype": "text/x-python",
   "name": "python",
   "nbconvert_exporter": "python",
   "pygments_lexer": "ipython3",
   "version": "3.6.7"
  }
 },
 "nbformat": 4,
 "nbformat_minor": 2
}
