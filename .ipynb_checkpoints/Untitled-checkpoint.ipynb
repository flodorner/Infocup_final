{
 "cells": [
  {
   "cell_type": "code",
   "execution_count": 1,
   "metadata": {
    "collapsed": false
   },
   "outputs": [],
   "source": [
    "import sticker\n",
    "import fgsm\n",
    "from utilities import query_to_labels, url_to_torch,query_to_labels"
   ]
  },
  {
   "cell_type": "code",
   "execution_count": 37,
   "metadata": {
    "collapsed": false
   },
   "outputs": [],
   "source": [
    "a=fgsm.FGSM(cuda=False)"
   ]
  },
  {
   "cell_type": "code",
   "execution_count": 59,
   "metadata": {
    "collapsed": false
   },
   "outputs": [
    {
     "name": "stdout",
     "output_type": "stream",
     "text": [
      "[ 0.          0.          0.          0.          0.          0.          0.\n",
      "  0.          0.          0.          0.          0.01965022  0.03561689\n",
      "  0.04936759  0.19285084  0.          0.          0.          0.          0.\n",
      "  0.          0.          0.          0.          0.          0.54367608\n",
      "  0.          0.          0.          0.          0.          0.          0.\n",
      "  0.          0.          0.          0.          0.          0.          0.\n",
      "  0.          0.          0.        ]\n",
      "0.19285084\n"
     ]
    }
   ],
   "source": [
    "\n",
    "name = \"Crowd_in_street\"\n",
    "target_label = 14\n",
    "\n",
    "base_directory = \"C:\\\\Users\\\\flodo\\\\Desktop\\\\Infocup_Data\\\\Adversarial_bases\\\\\"\n",
    "target_directory = \"C:\\\\Users\\\\flodo\\\\Desktop\\\\Infocup_Data\\\\Advers_working\\\\\"\n",
    "\n",
    "imurl= base_directory+name+\".png\"\n",
    "\n",
    "print(query_to_labels(imurl))\n",
    "print(query_to_labels(imurl)[target_label])\n",
    "\n",
    "im=url_to_torch(imurl)\n",
    "save_url=target_directory+name+\".png\""
   ]
  },
  {
   "cell_type": "code",
   "execution_count": 62,
   "metadata": {
    "collapsed": false,
    "scrolled": true
   },
   "outputs": [
    {
     "name": "stdout",
     "output_type": "stream",
     "text": [
      "MSE White vs Black Box\n",
      "9.543322084937245e-05\n",
      "probability: Whitebox\n",
      "0.9099921584129333\n",
      "probability: Blackbox\n",
      "0.88224447\n",
      "MSE White vs Black Box\n",
      "4.674413958127843e-06\n",
      "probability: Whitebox\n",
      "0.9009564518928528\n",
      "probability: Blackbox\n",
      "0.87868583\n",
      "MSE White vs Black Box\n",
      "6.950194074306637e-05\n",
      "probability: Whitebox\n",
      "0.9134919047355652\n",
      "probability: Blackbox\n",
      "0.89283299\n",
      "MSE White vs Black Box\n",
      "4.287457704776898e-05\n",
      "probability: Whitebox\n",
      "0.9052707552909851\n",
      "probability: Blackbox\n",
      "0.89501113\n",
      "MSE White vs Black Box\n",
      "0.00010360198939451948\n",
      "probability: Whitebox\n",
      "0.9114853143692017\n",
      "probability: Blackbox\n",
      "0.88632929\n",
      "MSE White vs Black Box\n",
      "2.1993224663674482e-07\n",
      "probability: Whitebox\n",
      "0.9044697880744934\n",
      "probability: Blackbox\n",
      "0.90970391\n",
      "found adversarial example\n"
     ]
    }
   ],
   "source": [
    "a.simple_attack(im, target_label, save_url, bound=15, mode=\"l_inf\",target_threshold=0.9,max_inner_steps=30)"
   ]
  },
  {
   "cell_type": "code",
   "execution_count": 2,
   "metadata": {
    "collapsed": false
   },
   "outputs": [
    {
     "name": "stdout",
     "output_type": "stream",
     "text": [
      "13\n"
     ]
    }
   ],
   "source": [
    "a=sticker.StickerGenerator(pixelsize=7,fringe=25,stride=7)\n",
    "\n",
    "print(a.queries)"
   ]
  },
  {
   "cell_type": "code",
   "execution_count": 3,
   "metadata": {
    "collapsed": false
   },
   "outputs": [
    {
     "name": "stdout",
     "output_type": "stream",
     "text": [
      "Confidence for Sticker on label 2: 0.01730714\n",
      "Confidence for Sticker on label 3: 0.90082157\n",
      "Sticker saved under Quickstick\\3\\7_block_central0.010.90082157.png\n",
      "Confidence for Sticker on label 4: 0.09539092\n",
      "Confidence for Sticker on label 8: 0.99852258\n",
      "Sticker saved under Quickstick\\8\\7_block_central0.010.99852258.png\n",
      "Confidence for Sticker on label 9: 0.07509521\n",
      "Confidence for Sticker on label 10: 0.9399305\n",
      "Sticker saved under Quickstick\\10\\7_block_central0.010.9399305.png\n",
      "Confidence for Sticker on label 13: 0.02406728\n",
      "Confidence for Sticker on label 14: 0.29954457\n",
      "Confidence for Sticker on label 17: 0.9982937\n",
      "Sticker saved under Quickstick\\17\\7_block_central0.010.9982937.png\n",
      "Confidence for Sticker on label 18: 0.01623129\n",
      "Confidence for Sticker on label 19: 0.02638045\n",
      "Confidence for Sticker on label 22: 0.03525138\n",
      "Confidence for Sticker on label 25: 0.98064834\n",
      "Sticker saved under Quickstick\\25\\7_block_central0.010.98064834.png\n",
      "Confidence for Sticker on label 31: 0.01024869\n",
      "Confidence for Sticker on label 33: 0.0442517\n",
      "Confidence for Sticker on label 35: 0.08046709\n",
      "Confidence for Sticker on label 38: 0.68687475\n"
     ]
    }
   ],
   "source": [
    "for i in range(43):\n",
    "    a.make_sticker(i,title=\"7_block_central\")"
   ]
  },
  {
   "cell_type": "code",
   "execution_count": 4,
   "metadata": {
    "collapsed": false
   },
   "outputs": [
    {
     "name": "stdout",
     "output_type": "stream",
     "text": [
      "30\n"
     ]
    }
   ],
   "source": [
    "print(a.queries)"
   ]
  },
  {
   "cell_type": "code",
   "execution_count": 5,
   "metadata": {
    "collapsed": false
   },
   "outputs": [
    {
     "name": "stdout",
     "output_type": "stream",
     "text": [
      "0.99999678\n"
     ]
    }
   ],
   "source": [
    "sticker.sticker_attack(\"C:\\\\Users\\\\flodo\\\\Desktop\\\\Infocup_Data\\\\Adversarial_bases\\\\Zaini_Abdullah.png\",\"C:\\\\Users\\\\flodo\\\\Desktop\\\\Infocup_Data\\\\Advers_working\\\\Zaini_Abdullah_stick.png\",label=10)"
   ]
  },
  {
   "cell_type": "code",
   "execution_count": null,
   "metadata": {
    "collapsed": true
   },
   "outputs": [],
   "source": []
  }
 ],
 "metadata": {
  "kernelspec": {
   "display_name": "Python 3",
   "language": "python",
   "name": "python3"
  },
  "language_info": {
   "codemirror_mode": {
    "name": "ipython",
    "version": 3
   },
   "file_extension": ".py",
   "mimetype": "text/x-python",
   "name": "python",
   "nbconvert_exporter": "python",
   "pygments_lexer": "ipython3",
   "version": "3.6.7"
  }
 },
 "nbformat": 4,
 "nbformat_minor": 2
}
