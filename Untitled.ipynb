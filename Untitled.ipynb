{
 "cells": [
  {
   "cell_type": "code",
   "execution_count": 1,
   "metadata": {
    "collapsed": false
   },
   "outputs": [],
   "source": [
    "import sticker\n",
    "import fgsm\n",
    "from utilities import query_to_labels, url_to_torch,query_to_labels"
   ]
  },
  {
   "cell_type": "code",
   "execution_count": 2,
   "metadata": {
    "collapsed": false
   },
   "outputs": [],
   "source": [
    "a=fgsm.FGSM()"
   ]
  },
  {
   "cell_type": "code",
   "execution_count": 3,
   "metadata": {
    "collapsed": false
   },
   "outputs": [
    {
     "name": "stdout",
     "output_type": "stream",
     "text": [
      "Labels with highest confidence:\n",
      "Vorfahrt (label 12): 0.44052419\n",
      "Zulässige Höchstgeschwindigkeit (30) (label 1): 0.11033559\n",
      "Baustelle (label 25): 0.07293988\n",
      "Stoppschild (label 14): 0.06493238\n",
      "Vorfahrt gewähren (label 13): 0.04811269\n",
      "try attacking one of those labels!\n",
      "attacking label 12\n",
      "\n",
      "step: 1\n",
      "MSE White vs Black Box before retraining:\n",
      "0.0252857131031\n",
      "MSE White vs Black Box after retraining:\n",
      "5.64333276997786e-05\n",
      "probability: Whitebox\n",
      "0.6035839319229126\n",
      "probability: Blackbox\n",
      "0.50714976\n",
      "\n",
      "step: 2\n",
      "MSE White vs Black Box before retraining:\n",
      "0.00929954951446\n",
      "MSE White vs Black Box after retraining:\n",
      "0.0015044411411508918\n",
      "probability: Whitebox\n",
      "0.494608998298645\n",
      "probability: Blackbox\n",
      "0.50540888\n",
      "\n",
      "step: 3\n",
      "MSE White vs Black Box before retraining:\n",
      "0.000116637444763\n",
      "MSE White vs Black Box after retraining:\n",
      "0.001271327375434339\n",
      "probability: Whitebox\n",
      "0.488910436630249\n",
      "probability: Blackbox\n",
      "0.50665122\n",
      "\n",
      "step: 4\n",
      "MSE White vs Black Box before retraining:\n",
      "0.000314735394572\n",
      "MSE White vs Black Box after retraining:\n",
      "0.0009763576090335846\n",
      "probability: Whitebox\n",
      "0.48679402470588684\n",
      "probability: Blackbox\n",
      "0.50741875\n",
      "\n",
      "step: 5\n",
      "MSE White vs Black Box before retraining:\n",
      "0.000425379293458\n",
      "MSE White vs Black Box after retraining:\n",
      "0.0008286854717880487\n",
      "probability: Whitebox\n",
      "0.48493605852127075\n",
      "probability: Blackbox\n",
      "0.50774473\n",
      "\n",
      "step: 6\n",
      "MSE White vs Black Box before retraining:\n",
      "0.000520235494625\n",
      "MSE White vs Black Box after retraining:\n",
      "0.0007553473114967346\n",
      "probability: Whitebox\n",
      "0.4842889904975891\n",
      "probability: Blackbox\n",
      "0.50794047\n",
      "\n",
      "step: 7\n",
      "MSE White vs Black Box before retraining:\n",
      "0.000559392482653\n",
      "MSE White vs Black Box after retraining:\n",
      "0.0007121877861209214\n",
      "probability: Whitebox\n",
      "0.4833005368709564\n",
      "probability: Blackbox\n",
      "0.50832665\n",
      "\n",
      "step: 8\n",
      "MSE White vs Black Box before retraining:\n",
      "0.000626306338348\n",
      "MSE White vs Black Box after retraining:\n",
      "0.0006617913022637367\n",
      "probability: Whitebox\n",
      "0.4835599660873413\n",
      "probability: Blackbox\n",
      "0.50914294\n",
      "\n",
      "step: 9\n",
      "MSE White vs Black Box before retraining:\n",
      "0.000654488554216\n",
      "MSE White vs Black Box after retraining:\n",
      "0.0006375874509103596\n",
      "probability: Whitebox\n",
      "0.48378342390060425\n",
      "probability: Blackbox\n",
      "0.50851339\n",
      "\n",
      "step: 10\n",
      "MSE White vs Black Box before retraining:\n",
      "0.000611571223277\n",
      "MSE White vs Black Box after retraining:\n",
      "0.0006452015368267894\n",
      "probability: Whitebox\n",
      "0.4836086630821228\n",
      "probability: Blackbox\n",
      "0.50876737\n",
      "\n",
      "convergence failed. relax bounds, increase loop length or start with another image!\n"
     ]
    },
    {
     "data": {
      "text/plain": [
       "0.50876737000000005"
      ]
     },
     "execution_count": 3,
     "metadata": {},
     "output_type": "execute_result"
    }
   ],
   "source": [
    "name = \"Adam_Sandler\"\n",
    "\n",
    "base_directory = \"C:\\\\Users\\\\flodo\\\\Desktop\\\\Infocup_Data\\\\Adversarial_bases\\\\\"\n",
    "target_directory = \"C:\\\\Users\\\\flodo\\\\Desktop\\\\Infocup_Data\\\\Advers_working\\\\\"\n",
    "\n",
    "imurl= base_directory+name+\".png\"\n",
    "save_url=target_directory+name+\".png\"\n",
    "\n",
    "a.preview_im(imurl)\n",
    "a.simple_attack(imurl,save_url)\n"
   ]
  },
  {
   "cell_type": "code",
   "execution_count": 4,
   "metadata": {
    "collapsed": false,
    "scrolled": true
   },
   "outputs": [
    {
     "ename": "NameError",
     "evalue": "name 'im' is not defined",
     "output_type": "error",
     "traceback": [
      "\u001b[0;31m---------------------------------------------------------------------------\u001b[0m",
      "\u001b[0;31mNameError\u001b[0m                                 Traceback (most recent call last)",
      "\u001b[0;32m<ipython-input-4-39a55debe8d8>\u001b[0m in \u001b[0;36m<module>\u001b[0;34m()\u001b[0m\n\u001b[0;32m----> 1\u001b[0;31m \u001b[0ma\u001b[0m\u001b[1;33m.\u001b[0m\u001b[0msimple_attack\u001b[0m\u001b[1;33m(\u001b[0m\u001b[0mim\u001b[0m\u001b[1;33m,\u001b[0m \u001b[0mtarget_label\u001b[0m\u001b[1;33m,\u001b[0m \u001b[0msave_url\u001b[0m\u001b[1;33m,\u001b[0m \u001b[0mbound\u001b[0m\u001b[1;33m=\u001b[0m\u001b[1;36m15\u001b[0m\u001b[1;33m,\u001b[0m \u001b[0mmode\u001b[0m\u001b[1;33m=\u001b[0m\u001b[1;34m\"l_inf\"\u001b[0m\u001b[1;33m,\u001b[0m\u001b[0mtarget_threshold\u001b[0m\u001b[1;33m=\u001b[0m\u001b[1;36m0.9\u001b[0m\u001b[1;33m,\u001b[0m\u001b[0mmax_inner_steps\u001b[0m\u001b[1;33m=\u001b[0m\u001b[1;36m30\u001b[0m\u001b[1;33m)\u001b[0m\u001b[1;33m\u001b[0m\u001b[1;33m\u001b[0m\u001b[0m\n\u001b[0m",
      "\u001b[0;31mNameError\u001b[0m: name 'im' is not defined"
     ]
    }
   ],
   "source": [
    "a.simple_attack(im, target_label, save_url, bound=15, mode=\"l_inf\",target_threshold=0.9,max_inner_steps=30)"
   ]
  },
  {
   "cell_type": "code",
   "execution_count": 7,
   "metadata": {
    "collapsed": false
   },
   "outputs": [
    {
     "name": "stdout",
     "output_type": "stream",
     "text": [
      "2\n"
     ]
    }
   ],
   "source": [
    "from os import remove\n",
    "try:\n",
    "    remove(\"3123123123123112\")\n",
    "except(FileNotFoundError):\n",
    "    print(2)"
   ]
  },
  {
   "cell_type": "code",
   "execution_count": 3,
   "metadata": {
    "collapsed": false
   },
   "outputs": [
    {
     "name": "stdout",
     "output_type": "stream",
     "text": [
      "Confidence for Sticker on label 2: 0.01730714\n",
      "Confidence for Sticker on label 3: 0.90082157\n",
      "Sticker saved under Quickstick\\3\\7_block_central0.010.90082157.png\n",
      "Confidence for Sticker on label 4: 0.09539092\n",
      "Confidence for Sticker on label 8: 0.99852258\n",
      "Sticker saved under Quickstick\\8\\7_block_central0.010.99852258.png\n",
      "Confidence for Sticker on label 9: 0.07509521\n",
      "Confidence for Sticker on label 10: 0.9399305\n",
      "Sticker saved under Quickstick\\10\\7_block_central0.010.9399305.png\n",
      "Confidence for Sticker on label 13: 0.02406728\n",
      "Confidence for Sticker on label 14: 0.29954457\n",
      "Confidence for Sticker on label 17: 0.9982937\n",
      "Sticker saved under Quickstick\\17\\7_block_central0.010.9982937.png\n",
      "Confidence for Sticker on label 18: 0.01623129\n",
      "Confidence for Sticker on label 19: 0.02638045\n",
      "Confidence for Sticker on label 22: 0.03525138\n",
      "Confidence for Sticker on label 25: 0.98064834\n",
      "Sticker saved under Quickstick\\25\\7_block_central0.010.98064834.png\n",
      "Confidence for Sticker on label 31: 0.01024869\n",
      "Confidence for Sticker on label 33: 0.0442517\n",
      "Confidence for Sticker on label 35: 0.08046709\n",
      "Confidence for Sticker on label 38: 0.68687475\n"
     ]
    }
   ],
   "source": [
    "for i in range(43):\n",
    "    a.make_sticker(i,title=\"7_block_central\")"
   ]
  },
  {
   "cell_type": "code",
   "execution_count": 4,
   "metadata": {
    "collapsed": false
   },
   "outputs": [
    {
     "name": "stdout",
     "output_type": "stream",
     "text": [
      "30\n"
     ]
    }
   ],
   "source": [
    "print(a.queries)"
   ]
  },
  {
   "cell_type": "code",
   "execution_count": 5,
   "metadata": {
    "collapsed": false
   },
   "outputs": [
    {
     "name": "stdout",
     "output_type": "stream",
     "text": [
      "0.99999678\n"
     ]
    }
   ],
   "source": [
    "sticker.sticker_attack(\"C:\\\\Users\\\\flodo\\\\Desktop\\\\Infocup_Data\\\\Adversarial_bases\\\\Zaini_Abdullah.png\",\"C:\\\\Users\\\\flodo\\\\Desktop\\\\Infocup_Data\\\\Advers_working\\\\Zaini_Abdullah_stick.png\",label=10)"
   ]
  },
  {
   "cell_type": "code",
   "execution_count": 5,
   "metadata": {
    "collapsed": false
   },
   "outputs": [
    {
     "data": {
      "text/plain": [
       "4.166666666666667"
      ]
     },
     "execution_count": 5,
     "metadata": {},
     "output_type": "execute_result"
    }
   ],
   "source": [
    "5/1.2"
   ]
  },
  {
   "cell_type": "code",
   "execution_count": null,
   "metadata": {
    "collapsed": true
   },
   "outputs": [],
   "source": []
  }
 ],
 "metadata": {
  "kernelspec": {
   "display_name": "Python 3",
   "language": "python",
   "name": "python3"
  },
  "language_info": {
   "codemirror_mode": {
    "name": "ipython",
    "version": 3
   },
   "file_extension": ".py",
   "mimetype": "text/x-python",
   "name": "python",
   "nbconvert_exporter": "python",
   "pygments_lexer": "ipython3",
   "version": "3.6.7"
  }
 },
 "nbformat": 4,
 "nbformat_minor": 2
}
